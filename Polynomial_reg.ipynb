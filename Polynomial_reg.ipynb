{
 "cells": [
  {
   "cell_type": "code",
   "execution_count": 1,
   "id": "78535be7",
   "metadata": {},
   "outputs": [],
   "source": [
    "# import necessary libraries \n",
    "import pandas as pd \n",
    "import numpy as np \n",
    "import matplotlib.pyplot as plt \n",
    "from mpl_toolkits.mplot3d import Axes3D \n",
    "from sklearn import metrics"
   ]
  },
  {
   "cell_type": "code",
   "execution_count": 2,
   "metadata": {},
   "outputs": [],
   "source": [
    "# set random seed \n",
    "np.random.seed(24)\n",
    "# generate random data \n",
    "num_samples = 100 \n",
    "feature_1 = np.random.uniform(-10, 10, num_samples) \n",
    "feature_2 = np.random.uniform(-10, 10, num_samples)"
   ]
  },
  {
   "cell_type": "code",
   "execution_count": 3,
   "id": "a6560672",
   "metadata": {},
   "outputs": [
    {
     "data": {
      "text/html": [
       "<div>\n",
       "<style scoped>\n",
       "    .dataframe tbody tr th:only-of-type {\n",
       "        vertical-align: middle;\n",
       "    }\n",
       "\n",
       "    .dataframe tbody tr th {\n",
       "        vertical-align: top;\n",
       "    }\n",
       "\n",
       "    .dataframe thead th {\n",
       "        text-align: right;\n",
       "    }\n",
       "</style>\n",
       "<table border=\"1\" class=\"dataframe\">\n",
       "  <thead>\n",
       "    <tr style=\"text-align: right;\">\n",
       "      <th></th>\n",
       "      <th>Feature_1</th>\n",
       "      <th>Feature_2</th>\n",
       "      <th>Target</th>\n",
       "    </tr>\n",
       "  </thead>\n",
       "  <tbody>\n",
       "    <tr>\n",
       "      <th>0</th>\n",
       "      <td>9.200346</td>\n",
       "      <td>5.383252</td>\n",
       "      <td>133.469543</td>\n",
       "    </tr>\n",
       "    <tr>\n",
       "      <th>1</th>\n",
       "      <td>3.990241</td>\n",
       "      <td>-0.508315</td>\n",
       "      <td>8.605029</td>\n",
       "    </tr>\n",
       "    <tr>\n",
       "      <th>2</th>\n",
       "      <td>9.997346</td>\n",
       "      <td>0.382263</td>\n",
       "      <td>56.362719</td>\n",
       "    </tr>\n",
       "    <tr>\n",
       "      <th>3</th>\n",
       "      <td>-5.598654</td>\n",
       "      <td>8.883861</td>\n",
       "      <td>-112.909787</td>\n",
       "    </tr>\n",
       "    <tr>\n",
       "      <th>4</th>\n",
       "      <td>-2.778873</td>\n",
       "      <td>2.870507</td>\n",
       "      <td>-20.687807</td>\n",
       "    </tr>\n",
       "  </tbody>\n",
       "</table>\n",
       "</div>"
      ],
      "text/plain": [
       "   Feature_1  Feature_2      Target\n",
       "0   9.200346   5.383252  133.469543\n",
       "1   3.990241  -0.508315    8.605029\n",
       "2   9.997346   0.382263   56.362719\n",
       "3  -5.598654   8.883861 -112.909787\n",
       "4  -2.778873   2.870507  -20.687807"
      ]
     },
     "execution_count": 3,
     "metadata": {},
     "output_type": "execute_result"
    }
   ],
   "source": [
    "# Generate target variable based on a polynomial relationship with some added noise target\n",
    "target = 0.5*feature_1**2 + 2 * feature_1*feature_2 - 3*feature_2 + 5 + np.random.normal(0, 5, num_samples)\n",
    "\n",
    "# Combine into a DataFrame \n",
    "data_regression = pd.DataFrame({ \n",
    "    'Feature_1': feature_1, \n",
    "    'Feature_2': feature_2, \n",
    "    'Target': target \n",
    "    }) \n",
    "\n",
    "data_regression.head()"
   ]
  },
  {
   "cell_type": "code",
   "execution_count": 4,
   "metadata": {},
   "outputs": [],
   "source": [
    "# split the data into training and testing sets with 80% training and 20% testing\n",
    "from sklearn.model_selection import train_test_split\n",
    "\n",
    "# Split the data into train and test sets\n",
    "#train_x, test_x, train_y, test_y = train_test_split(data_regression.drop('Target', axis=1), data_regression['Target'], test_size=0.2, random_state=24)\n",
    "train_data, test_data = train_test_split(data_regression, test_size=0.2, random_state=24)   \n",
    "train_x = train_data.drop('Target', axis=1) # Features: 'Feature 1 & 2'\n",
    "train_y = train_data['Target']\n",
    "\n",
    "test_x = test_data.drop('Target', axis=1) # Features: 'Feature 1 & 2'\n",
    "test_y = test_data['Target']"
   ]
  },
  {
   "cell_type": "code",
   "execution_count": 5,
   "metadata": {},
   "outputs": [],
   "source": [
    "from sklearn import preprocessing \n",
    "# Specifying the degree of the polynomial equation\n",
    "nb_degree = 2\n",
    "polynomial_features = preprocessing.PolynomialFeatures(degree = nb_degree)\n",
    "\n",
    "# Transforming the train_x to fit the polynomial feature\n",
    "train_x_poly = polynomial_features.fit_transform(train_x)"
   ]
  },
  {
   "cell_type": "code",
   "execution_count": 6,
   "id": "5811f6d0",
   "metadata": {},
   "outputs": [
    {
     "data": {
      "text/html": [
       "<style>#sk-container-id-1 {color: black;}#sk-container-id-1 pre{padding: 0;}#sk-container-id-1 div.sk-toggleable {background-color: white;}#sk-container-id-1 label.sk-toggleable__label {cursor: pointer;display: block;width: 100%;margin-bottom: 0;padding: 0.3em;box-sizing: border-box;text-align: center;}#sk-container-id-1 label.sk-toggleable__label-arrow:before {content: \"▸\";float: left;margin-right: 0.25em;color: #696969;}#sk-container-id-1 label.sk-toggleable__label-arrow:hover:before {color: black;}#sk-container-id-1 div.sk-estimator:hover label.sk-toggleable__label-arrow:before {color: black;}#sk-container-id-1 div.sk-toggleable__content {max-height: 0;max-width: 0;overflow: hidden;text-align: left;background-color: #f0f8ff;}#sk-container-id-1 div.sk-toggleable__content pre {margin: 0.2em;color: black;border-radius: 0.25em;background-color: #f0f8ff;}#sk-container-id-1 input.sk-toggleable__control:checked~div.sk-toggleable__content {max-height: 200px;max-width: 100%;overflow: auto;}#sk-container-id-1 input.sk-toggleable__control:checked~label.sk-toggleable__label-arrow:before {content: \"▾\";}#sk-container-id-1 div.sk-estimator input.sk-toggleable__control:checked~label.sk-toggleable__label {background-color: #d4ebff;}#sk-container-id-1 div.sk-label input.sk-toggleable__control:checked~label.sk-toggleable__label {background-color: #d4ebff;}#sk-container-id-1 input.sk-hidden--visually {border: 0;clip: rect(1px 1px 1px 1px);clip: rect(1px, 1px, 1px, 1px);height: 1px;margin: -1px;overflow: hidden;padding: 0;position: absolute;width: 1px;}#sk-container-id-1 div.sk-estimator {font-family: monospace;background-color: #f0f8ff;border: 1px dotted black;border-radius: 0.25em;box-sizing: border-box;margin-bottom: 0.5em;}#sk-container-id-1 div.sk-estimator:hover {background-color: #d4ebff;}#sk-container-id-1 div.sk-parallel-item::after {content: \"\";width: 100%;border-bottom: 1px solid gray;flex-grow: 1;}#sk-container-id-1 div.sk-label:hover label.sk-toggleable__label {background-color: #d4ebff;}#sk-container-id-1 div.sk-serial::before {content: \"\";position: absolute;border-left: 1px solid gray;box-sizing: border-box;top: 0;bottom: 0;left: 50%;z-index: 0;}#sk-container-id-1 div.sk-serial {display: flex;flex-direction: column;align-items: center;background-color: white;padding-right: 0.2em;padding-left: 0.2em;position: relative;}#sk-container-id-1 div.sk-item {position: relative;z-index: 1;}#sk-container-id-1 div.sk-parallel {display: flex;align-items: stretch;justify-content: center;background-color: white;position: relative;}#sk-container-id-1 div.sk-item::before, #sk-container-id-1 div.sk-parallel-item::before {content: \"\";position: absolute;border-left: 1px solid gray;box-sizing: border-box;top: 0;bottom: 0;left: 50%;z-index: -1;}#sk-container-id-1 div.sk-parallel-item {display: flex;flex-direction: column;z-index: 1;position: relative;background-color: white;}#sk-container-id-1 div.sk-parallel-item:first-child::after {align-self: flex-end;width: 50%;}#sk-container-id-1 div.sk-parallel-item:last-child::after {align-self: flex-start;width: 50%;}#sk-container-id-1 div.sk-parallel-item:only-child::after {width: 0;}#sk-container-id-1 div.sk-dashed-wrapped {border: 1px dashed gray;margin: 0 0.4em 0.5em 0.4em;box-sizing: border-box;padding-bottom: 0.4em;background-color: white;}#sk-container-id-1 div.sk-label label {font-family: monospace;font-weight: bold;display: inline-block;line-height: 1.2em;}#sk-container-id-1 div.sk-label-container {text-align: center;}#sk-container-id-1 div.sk-container {/* jupyter's `normalize.less` sets `[hidden] { display: none; }` but bootstrap.min.css set `[hidden] { display: none !important; }` so we also need the `!important` here to be able to override the default hidden behavior on the sphinx rendered scikit-learn.org. See: https://github.com/scikit-learn/scikit-learn/issues/21755 */display: inline-block !important;position: relative;}#sk-container-id-1 div.sk-text-repr-fallback {display: none;}</style><div id=\"sk-container-id-1\" class=\"sk-top-container\"><div class=\"sk-text-repr-fallback\"><pre>LinearRegression()</pre><b>In a Jupyter environment, please rerun this cell to show the HTML representation or trust the notebook. <br />On GitHub, the HTML representation is unable to render, please try loading this page with nbviewer.org.</b></div><div class=\"sk-container\" hidden><div class=\"sk-item\"><div class=\"sk-estimator sk-toggleable\"><input class=\"sk-toggleable__control sk-hidden--visually\" id=\"sk-estimator-id-1\" type=\"checkbox\" checked><label for=\"sk-estimator-id-1\" class=\"sk-toggleable__label sk-toggleable__label-arrow\">LinearRegression</label><div class=\"sk-toggleable__content\"><pre>LinearRegression()</pre></div></div></div></div></div>"
      ],
      "text/plain": [
       "LinearRegression()"
      ]
     },
     "execution_count": 6,
     "metadata": {},
     "output_type": "execute_result"
    }
   ],
   "source": [
    "from sklearn import linear_model \n",
    "\n",
    "poly_regr = linear_model.LinearRegression()\n",
    "poly_regr.fit(train_x_poly, train_y)"
   ]
  },
  {
   "cell_type": "code",
   "execution_count": 7,
   "metadata": {},
   "outputs": [
    {
     "name": "stdout",
     "output_type": "stream",
     "text": [
      "Polynomial Regression RMSE:  3.5606444004193754\n",
      "Polynomial Regression R2:  0.9962455158639573\n"
     ]
    }
   ],
   "source": [
    "# Predicting the model:\n",
    "test_x_poly = polynomial_features.fit_transform(test_x)\n",
    "y_pred_poly = poly_regr.predict(test_x_poly)\n",
    "\n",
    "# Calculating RMSE and R2 Score\n",
    "rmse = np.sqrt(metrics.mean_squared_error(test_y, y_pred_poly))\n",
    "r2_score_poly = metrics.r2_score(test_y, y_pred_poly)\n",
    "print('Polynomial Regression RMSE: ', rmse)\n",
    "print('Polynomial Regression R2: ', r2_score_poly)"
   ]
  },
  {
   "cell_type": "code",
   "execution_count": 8,
   "metadata": {},
   "outputs": [
    {
     "name": "stdout",
     "output_type": "stream",
     "text": [
      "Polynomial Regression Mean Squared Error: 12.678188546237852\n"
     ]
    }
   ],
   "source": [
    "mse = metrics.mean_squared_error(test_y, y_pred_poly)\n",
    "print(\"Polynomial Regression Mean Squared Error:\", mse)"
   ]
  },
  {
   "cell_type": "code",
   "execution_count": 9,
   "metadata": {},
   "outputs": [
    {
     "data": {
      "image/png": "[encoded data removed]",
      "text/plain": [
       "<Figure size 1000x600 with 1 Axes>"
      ]
     },
     "metadata": {},
     "output_type": "display_data"
    }
   ],
   "source": [
    "# Generate some random data for demonstration\n",
    "np.random.seed(0)\n",
    "x = np.random.rand(100, 1) * 10\n",
    "y = 2 * x.squeeze() ** 2 - 3 * x.squeeze() + 5 + np.random.randn(100) * 2\n",
    "\n",
    "# Create polynomial features (degree = 2)\n",
    "poly_features = preprocessing.PolynomialFeatures(degree=2)\n",
    "X_poly = poly_features.fit_transform(x)\n",
    "\n",
    "# Train the polynomial regression model\n",
    "poly_model = linear_model.LinearRegression()\n",
    "poly_model.fit(X_poly, y)\n",
    "\n",
    "# Generate x-values for plotting the best-fit line\n",
    "x_values = np.linspace(min(x), max(x), 100).reshape(-1, 1)\n",
    "x_values_poly = poly_features.transform(x_values)\n",
    "\n",
    "# Predict y-values using the trained polynomial regression model\n",
    "y_values_pred = poly_model.predict(x_values_poly)\n",
    "\n",
    "# Plotting the data points and the best-fit line\n",
    "plt.figure(figsize=(10, 6))\n",
    "plt.scatter(x, y, color='blue', label='Original Data')\n",
    "plt.plot(x_values, y_values_pred, color='red', label='Best-fit Line')\n",
    "\n",
    "plt.xlabel('X')\n",
    "plt.ylabel('Y')\n",
    "plt.title('Polynomial Regression - Best-fit Line')\n",
    "plt.legend()\n",
    "plt.show()"
   ]
  },
  {
   "cell_type": "code",
   "execution_count": null,
   "id": "28c5a337",
   "metadata": {},
   "outputs": [],
   "source": [
    ")"
   ]
  },
  {
   "cell_type": "code",
   "execution_count": null,
   "id": "1b6a0bc4",
   "metadata": {},
   "outputs": [],
   "source": []
  }
 ],
 "metadata": {
  "kernelspec": {
   "display_name": "base",
   "language": "python",
   "name": "python3"
  },
  "language_info": {
   "codemirror_mode": {
    "name": "ipython",
    "version": 3
   },
   "file_extension": ".py",
   "mimetype": "text/x-python",
   "name": "python",
   "nbconvert_exporter": "python",
   "pygments_lexer": "ipython3",
   "version": "3.11.5"
  }
 },
 "nbformat": 4,
 "nbformat_minor": 5
}
